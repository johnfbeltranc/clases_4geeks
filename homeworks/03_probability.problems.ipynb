{
 "cells": [
  {
   "cell_type": "markdown",
   "id": "a41f3622",
   "metadata": {},
   "source": [
    "# Ejercicios de probabilidad"
   ]
  },
  {
   "cell_type": "markdown",
   "id": "a6bdbd89",
   "metadata": {},
   "source": [
    "## Ejercicio 1 \n",
    "\n",
    "Dos dados se lanzan una vez y se observa el total obtenido. Usa una simulación para encontrar la probabilidad estimada de que la puntuación sea mayor a 7 o un número par. Una simulación es una repetición del mismo experimento multiples veces para observar su comportamiento:\n",
    "\n",
    "- Ejecuta el experimento 1000 veces (lanza 2 dados 1000 veces, y suma el número de ambos dados).\n",
    "- Lleva ua cuenta de los números y las veces que la suma fue mayor a 7 o un número par.\n",
    "- Divide el número del paso 2 entre el número de iteraciones(1000)."
   ]
  },
  {
   "cell_type": "code",
   "execution_count": 1,
   "id": "8939d892",
   "metadata": {},
   "outputs": [
    {
     "name": "stdout",
     "output_type": "stream",
     "text": [
      "la probabilidad de sacar un numero par o mayor que 7 es:68.6%\n"
     ]
    }
   ],
   "source": [
    "import random\n",
    "import numpy as np\n",
    "\n",
    "def tirar_los_dados(simulaciones_tiros = 1000):\n",
    "    contar = 0\n",
    "    for _ in range(simulaciones_tiros):\n",
    "        dado1 = random.randint(1, 6)\n",
    "        dado2 = random.randint(1, 6)\n",
    "        resultado = dado1 + dado2\n",
    "        if (resultado % 2 == 0) or (resultado > 7):\n",
    "            contar += 1\n",
    "    return contar / simulaciones_tiros\n",
    "print(f\"la probabilidad de sacar un numero par o mayor que 7 es:{np.round(tirar_los_dados() * 100, 2)}%\")\n",
    "\n"
   ]
  },
  {
   "cell_type": "markdown",
   "id": "55732bca",
   "metadata": {},
   "source": [
    "## Ejercicio 2\n",
    "\n",
    "Una caja contiene 10 bolas blancas, 20 bolas rojas y 30 bolas verdes. Si tomamos 5 bolas de la caja reemplazándolas (tomando una bola, anotando el color y luego regresandola a la caja). Queremos saber la probabilidad de:\n",
    "\n",
    "1. Tomar 3 blancas y 2 rojas.\n",
    "2. Toas todas del mismo color.\n",
    "\n",
    "Ejecuta el experimento 1000 veces y calcula las probabilidades que mencionadas."
   ]
  },
  {
   "cell_type": "code",
   "execution_count": 14,
   "id": "23244d20",
   "metadata": {},
   "outputs": [
    {
     "name": "stdout",
     "output_type": "stream",
     "text": [
      "La probabilidad de sacar 3 bolas blancas y 2 rojas es: 0.60%\n",
      "La probabilidad de sacar todas las bolas del mismo color es: 3.20%\n"
     ]
    }
   ],
   "source": [
    "def simular_bolas(n_simulaciones=1000):\n",
    "    bolas = [\"blanca\"] * 10 + [\"roja\"] * 20 + [\"verde\"] * 30\n",
    "    exitos_3blancas_2rojas = 0\n",
    "    exitos_todas_mismo_color = 0\n",
    "    for _ in range(n_simulaciones):\n",
    "        resultado = [random.choice(bolas) for _ in range(5)]\n",
    "\n",
    "        count_blanca = resultado.count(\"blanca\")\n",
    "        count_roja = resultado.count(\"roja\")\n",
    "        count_verde = resultado.count(\"verde\")\n",
    "\n",
    "        if count_blanca == 3 and count_roja == 2:\n",
    "            exitos_3blancas_2rojas += 1\n",
    "        if count_blanca == 5 or count_roja == 5 or count_verde == 5:\n",
    "                exitos_todas_mismo_color += 1\n",
    "\n",
    "    prob_3blancas_2rojas = exitos_3blancas_2rojas / n_simulaciones\n",
    "    prob_todas_del_mismo_color = exitos_todas_mismo_color / n_simulaciones\n",
    "\n",
    "    return prob_3blancas_2rojas, prob_todas_del_mismo_color\n",
    "\n",
    "prob1, prob2 = simular_bolas(1000)\n",
    "print(f\"La probabilidad de sacar 3 bolas blancas y 2 rojas es: {prob1*100:.2f}%\")\n",
    "print(f\"La probabilidad de sacar todas las bolas del mismo color es: {prob2*100:.2f}%\")\n"
   ]
  }
 ],
 "metadata": {
  "kernelspec": {
   "display_name": ".venv",
   "language": "python",
   "name": "python3"
  },
  "language_info": {
   "codemirror_mode": {
    "name": "ipython",
    "version": 3
   },
   "file_extension": ".py",
   "mimetype": "text/x-python",
   "name": "python",
   "nbconvert_exporter": "python",
   "pygments_lexer": "ipython3",
   "version": "3.12.1"
  }
 },
 "nbformat": 4,
 "nbformat_minor": 5
}
